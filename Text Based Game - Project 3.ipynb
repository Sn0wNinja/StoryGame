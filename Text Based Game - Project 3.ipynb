{
 "cells": [
  {
   "cell_type": "code",
   "execution_count": 189,
   "metadata": {},
   "outputs": [],
   "source": [
    "from IPython.display import clear_output\n",
    "\n",
    "import time\n",
    "\n",
    "def answer():\n",
    "    a = True\n",
    "    while a == True:\n",
    "        \n",
    "        answer = input(\"Where would you like to go? \").lower()\n",
    "    \n",
    "        if answer == \"a\":\n",
    "            zebras()\n",
    "            a = False\n",
    "        if answer == \"b\":\n",
    "            tigers()\n",
    "            a = False\n",
    "        if answer == \"c\":\n",
    "            monkeys()\n",
    "            a = False\n",
    "        "
   ]
  },
  {
   "cell_type": "code",
   "execution_count": 190,
   "metadata": {},
   "outputs": [],
   "source": [
    "def answer1():\n",
    "    b = True\n",
    "    while b == True:\n",
    "        \n",
    "        answer1 = input(\"Where would you like to go? \").lower()\n",
    "    \n",
    "        if answer1 == \"a\":\n",
    "            icecream()\n",
    "            b = False\n",
    "        if answer1 == \"b\":\n",
    "            lions()\n",
    "            b = False\n",
    "        if answer1 == \"c\":\n",
    "            chairlift()\n",
    "            b = False\n"
   ]
  },
  {
   "cell_type": "code",
   "execution_count": 191,
   "metadata": {},
   "outputs": [],
   "source": [
    "def intro():\n",
    "    \n",
    "    print(\"You are in the ZOO with your best friend. You can choose which animals you'd like to see first.\") \n",
    "    print(\"\")\n",
    "    print(\"A. Zebras\\nB. Tigers\\nC. Monkeys\")\n",
    "    print(\"\")\n",
    "    answer()"
   ]
  },
  {
   "cell_type": "code",
   "execution_count": 192,
   "metadata": {},
   "outputs": [],
   "source": [
    "def zebras():\n",
    "    clear_output()\n",
    "    print(\"Zebras are white animals with black stripes. They are very similar to horses. \\nYou get bored after a while and want to go somewhere else.\")\n",
    "    print(\"\")\n",
    "    print(\"\\nA. Go for an ice cream. \\nB. Go see the lions. \\nC. Take a chairlift up to the other part of the ZOO.\")\n",
    "    print(\"\")\n",
    "    answer1()"
   ]
  },
  {
   "cell_type": "code",
   "execution_count": 193,
   "metadata": {},
   "outputs": [],
   "source": [
    "def tigers():\n",
    "    clear_output()\n",
    "    print(\"Tigers are meat eaters. They hunt with their big teeth. You find them very interesting. But sadly, the tigers went to take a nap. There is nothing to see here now, and decide you would like to see something else. \\nA. Go for an ice cream. \\nB. Go see the lions. \\nC. Take a chairlift up to the other part of the ZOO.\")\n",
    "    print(\"\")\n",
    "    print(\"\\nA. Go for an ice cream. \\nB. Go see the lions. \\nC. Take a chairlift up to the other part of the ZOO.\")\n",
    "    print(\"\")\n",
    "    answer1()"
   ]
  },
  {
   "cell_type": "code",
   "execution_count": 194,
   "metadata": {},
   "outputs": [],
   "source": [
    "def monkeys():\n",
    "    clear_output()\n",
    "    print(\"You enter the monkey pavilion and suddenly something steals a banana you had in your hand. You get angry and want to leave. You decide you want to go somewhere else. \\nA. Go for an ice cream. \\nB. Go see the lions. \\nC. Take a chairlift up to the other part of the ZOO.\")\n",
    "    print(\"\")\n",
    "    print(\"\\nA. Go for an ice cream. \\nB. Go see the lions. \\nC. Take a chairlift up to the other part of the ZOO.\")\n",
    "    print(\"\")\n",
    "    answer1()"
   ]
  },
  {
   "cell_type": "code",
   "execution_count": 195,
   "metadata": {},
   "outputs": [],
   "source": [
    "def lions():\n",
    "    clear_output()\n",
    "    print(\"Lions are huge, and scary. Because of that you shit in your pants. \\nYou start to run to the nearest exit of the ZOO and drive home as fast as you can because the shit stinks so much.\")\n",
    "    time.sleep(3)\n",
    "    endgame()"
   ]
  },
  {
   "cell_type": "code",
   "execution_count": 196,
   "metadata": {},
   "outputs": [],
   "source": [
    "def icecream():\n",
    "    clear_output()\n",
    "    print(\"You enter the ice cream bar but your most favorite ice cream is nowhere. You get mad and frustrated and leave the ZOO.\")\n",
    "    time.sleep(3)\n",
    "    endgame()"
   ]
  },
  {
   "cell_type": "code",
   "execution_count": 197,
   "metadata": {},
   "outputs": [],
   "source": [
    "def chairlift():\n",
    "    clear_output()\n",
    "    print(\"When you enter the chairlift your friend gets frigthened and wants to leave. \\nYou know that when he is scared there is no chance of normal talk with him. Therefore you find the nearest exit and drive home.\")\n",
    "    time.sleep(3)\n",
    "    endgame()"
   ]
  },
  {
   "cell_type": "code",
   "execution_count": 198,
   "metadata": {},
   "outputs": [],
   "source": [
    "def endgame():\n",
    "    print(\"\")\n",
    "    print(\"Thank you for your visit at our Virtual ZOO.\")"
   ]
  },
  {
   "cell_type": "code",
   "execution_count": 199,
   "metadata": {},
   "outputs": [
    {
     "name": "stdout",
     "output_type": "stream",
     "text": [
      "You enter the ice cream bar but your most favorite ice cream is nowhere. You get mad and frustrated and leave the ZOO.\n",
      "\n",
      "Thank you for your visit at our Virtual ZOO.\n"
     ]
    }
   ],
   "source": [
    "intro()"
   ]
  },
  {
   "cell_type": "code",
   "execution_count": null,
   "metadata": {},
   "outputs": [],
   "source": []
  }
 ],
 "metadata": {
  "kernelspec": {
   "display_name": "Python 3",
   "language": "python",
   "name": "python3"
  },
  "language_info": {
   "codemirror_mode": {
    "name": "ipython",
    "version": 3
   },
   "file_extension": ".py",
   "mimetype": "text/x-python",
   "name": "python",
   "nbconvert_exporter": "python",
   "pygments_lexer": "ipython3",
   "version": "3.8.3"
  }
 },
 "nbformat": 4,
 "nbformat_minor": 4
}
